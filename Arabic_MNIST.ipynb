{
 "cells": [
  {
   "cell_type": "code",
   "execution_count": 1,
   "id": "5c79bd49",
   "metadata": {},
   "outputs": [],
   "source": [
    "import numpy as np\n",
    "from PIL import Image\n",
    "import neural as nn\n",
    "import matplotlib.pyplot as plt\n",
    "import os"
   ]
  },
  {
   "cell_type": "code",
   "execution_count": 2,
   "id": "12aab6e5",
   "metadata": {},
   "outputs": [],
   "source": [
    "def get_data_from_directory(path, target_size=(32, 32)):\n",
    "    imgs_file = os.listdir(path)\n",
    "    m = len(imgs_file)\n",
    "    \n",
    "    x = np.zeros(shape=(m, target_size[0], target_size[1], 1))\n",
    "    y = np.zeros(shape=(m,))\n",
    "    \n",
    "    for ind, img in enumerate(imgs_file):\n",
    "        img_path = path + img\n",
    "        x[ind] = np.expand_dims(np.array(Image.open(img_path).resize(target_size)), axis=-1)\n",
    "        y[ind] = int(img[img.rindex(\"_\")+1:-4]) - 1\n",
    "        \n",
    "    return x, y"
   ]
  },
  {
   "cell_type": "code",
   "execution_count": 3,
   "id": "6cc11bb5",
   "metadata": {},
   "outputs": [],
   "source": [
    "x_train, y_train = get_data_from_directory(\"train/\")\n",
    "x_test, y_test = get_data_from_directory(\"test/\")"
   ]
  },
  {
   "cell_type": "code",
   "execution_count": 4,
   "id": "200ea1b5",
   "metadata": {},
   "outputs": [
    {
     "data": {
      "text/plain": [
       "28"
      ]
     },
     "execution_count": 4,
     "metadata": {},
     "output_type": "execute_result"
    }
   ],
   "source": [
    "arabic_letters = [\n",
    "    \"أ\",\n",
    "    \"ب\",\n",
    "    \"ت\",\n",
    "    \"ث\",\n",
    "    \"ج\",\n",
    "    \"ح\",\n",
    "    \"خ\",\n",
    "    \"د\",\n",
    "    \"ذ\",\n",
    "    \"ر\",\n",
    "    \"ز\",\n",
    "    \"س\",\n",
    "    \"ش\",\n",
    "    \"ص\",\n",
    "    \"ض\",\n",
    "    \"ط\",\n",
    "    \"ظ\",\n",
    "    \"ع\",\n",
    "    \"غ\",\n",
    "    \"ف\",\n",
    "    \"ق\",\n",
    "    \"ك\",\n",
    "    \"ل\",\n",
    "    \"م\",\n",
    "    \"ن\",\n",
    "    \"ه\",\n",
    "    \"و\",\n",
    "    \"ي\",\n",
    "]\n",
    "len(arabic_letters)"
   ]
  },
  {
   "cell_type": "code",
   "execution_count": 5,
   "id": "c9c66175",
   "metadata": {},
   "outputs": [],
   "source": [
    "def display_samples(img_samples, labels, arabic_letters):\n",
    "    f, ax = plt.subplots(3, 3)\n",
    "    cntr = 0\n",
    "    for row in range(3):\n",
    "        for col in range(3):\n",
    "            ax[row, col].imshow(img_samples[cntr])\n",
    "            ax[row, col].axis(\"off\")\n",
    "            ax[row, col].set_title(arabic_letters[int(labels[cntr])])\n",
    "            cntr += 1"
   ]
  },
  {
   "cell_type": "code",
   "execution_count": 6,
   "id": "a7ff3d3d",
   "metadata": {},
   "outputs": [
    {
     "data": {
      "image/png": "[encoded data removed]",
      "text/plain": [
       "<Figure size 640x480 with 9 Axes>"
      ]
     },
     "metadata": {},
     "output_type": "display_data"
    }
   ],
   "source": [
    "rndm_ind = np.random.permutation(x_test.shape[0])\n",
    "display_samples(x_test[rndm_ind], y_test[rndm_ind], arabic_letters)"
   ]
  },
  {
   "cell_type": "code",
   "execution_count": 7,
   "id": "e1cdc5ee",
   "metadata": {},
   "outputs": [],
   "source": [
    "y_train = nn.preprocessing.to_one_hot(y_train)\n",
    "y_test = nn.preprocessing.to_one_hot(y_test)"
   ]
  },
  {
   "cell_type": "code",
   "execution_count": 8,
   "id": "c1de4b92",
   "metadata": {},
   "outputs": [],
   "source": [
    "x_train /= 255.0\n",
    "x_test /= 255.0"
   ]
  },
  {
   "cell_type": "code",
   "execution_count": 25,
   "id": "bf560a54",
   "metadata": {},
   "outputs": [],
   "source": [
    "model = nn.Sequential([\n",
    "    nn.layers.Conv2D(4, 3, kernel_initializer=\"he_normal\"), # (30, 30, 4)\n",
    "    nn.layers.Activation(\"leaky_relu\"), # (30, 30, 4)\n",
    "    nn.layers.MaxPooling2D(), # (15, 15, 4)\n",
    "    nn.layers.Conv2D(8, 3, kernel_initializer=\"he_normal\"), # (13, 13, 8)\n",
    "    nn.layers.Activation(\"leaky_relu\"), # (13, 13, 8)\n",
    "    nn.layers.MaxPooling2D(filter_size=3, strides=2), # (6, 6, 8)\n",
    "    nn.layers.Conv2D(16, 3, kernel_initializer=\"he_normal\"), # (4, 4, 16)\n",
    "    nn.layers.Activation(\"leaky_relu\"), # (4, 4, 16)\n",
    "    nn.layers.MaxPooling2D(), # (2, 2, 16)\n",
    "    nn.layers.Flatten(),\n",
    "    nn.layers.FullyConnected(neurons=64, kernel_initializer=\"he_normal\"),\n",
    "    nn.layers.Activation(\"leaky_relu\"),\n",
    "    nn.layers.Dropout(0.2),\n",
    "    nn.layers.FullyConnected(neurons=32, kernel_initializer=\"he_normal\"),\n",
    "    nn.layers.Activation(\"leaky_relu\"),\n",
    "    nn.layers.FullyConnected(neurons=28, kernel_initializer=\"xavier_normal\"),    \n",
    "])"
   ]
  },
  {
   "cell_type": "code",
   "execution_count": 50,
   "id": "6ca828f1",
   "metadata": {},
   "outputs": [],
   "source": [
    "model.set(\n",
    "    loss=nn.losses.OneHotCrossEntropy(from_logits=True),\n",
    "    optimizer=nn.optimizers.Adam(lr=0.00001),\n",
    "    metrics=[\"one_hot_acc\"]\n",
    ")"
   ]
  },
  {
   "cell_type": "code",
   "execution_count": 51,
   "id": "4c8b1f8d",
   "metadata": {},
   "outputs": [
    {
     "name": "stdout",
     "output_type": "stream",
     "text": [
      "Epoch 1/50:  421/421: oooooooooooooooooooooooooooooooooooooooooooooooooooooooooooo\tloss: 0.37068\tone_hot_acc: 0.87210\n",
      "Epoch 2/50:  156/421: oooooooooooooooooooooo......................................\tloss: 0.38604\tone_hot_acc: 0.86839"
     ]
    },
    {
     "ename": "KeyboardInterrupt",
     "evalue": "",
     "output_type": "error",
     "traceback": [
      "\u001b[1;31m---------------------------------------------------------------------------\u001b[0m",
      "\u001b[1;31mKeyboardInterrupt\u001b[0m                         Traceback (most recent call last)",
      "Cell \u001b[1;32mIn[51], line 1\u001b[0m\n\u001b[1;32m----> 1\u001b[0m history \u001b[38;5;241m=\u001b[39m \u001b[43mmodel\u001b[49m\u001b[38;5;241;43m.\u001b[39;49m\u001b[43mtrain\u001b[49m\u001b[43m(\u001b[49m\u001b[43mx_train\u001b[49m\u001b[43m,\u001b[49m\u001b[43m \u001b[49m\u001b[43my_train\u001b[49m\u001b[43m,\u001b[49m\u001b[43m \u001b[49m\u001b[43mepochs\u001b[49m\u001b[38;5;241;43m=\u001b[39;49m\u001b[38;5;241;43m50\u001b[39;49m\u001b[43m)\u001b[49m\n",
      "File \u001b[1;32mC:\\Machine Learning\\Projects\\NeuralNetworks\\neural\\models.py:231\u001b[0m, in \u001b[0;36mSequential.train\u001b[1;34m(self, x, y, epochs, batch_size, verbose)\u001b[0m\n\u001b[0;32m    228\u001b[0m avg_loss \u001b[38;5;241m=\u001b[39m \u001b[38;5;241m0\u001b[39m\n\u001b[0;32m    230\u001b[0m \u001b[38;5;28;01mfor\u001b[39;00m (x_cur, y_cur) \u001b[38;5;129;01min\u001b[39;00m mini_batch_gen:\n\u001b[1;32m--> 231\u001b[0m     y_hat, loss \u001b[38;5;241m=\u001b[39m \u001b[38;5;28;43mself\u001b[39;49m\u001b[38;5;241;43m.\u001b[39;49m\u001b[43mtrain_batch\u001b[49m\u001b[43m(\u001b[49m\u001b[43mx_cur\u001b[49m\u001b[43m,\u001b[49m\u001b[43m \u001b[49m\u001b[43my_cur\u001b[49m\u001b[43m)\u001b[49m\n\u001b[0;32m    233\u001b[0m     avg_loss \u001b[38;5;241m=\u001b[39m (avg_loss \u001b[38;5;241m*\u001b[39m m_trained \u001b[38;5;241m+\u001b[39m loss \u001b[38;5;241m*\u001b[39m x_cur\u001b[38;5;241m.\u001b[39mshape[\u001b[38;5;241m0\u001b[39m]) \u001b[38;5;241m/\u001b[39m (m_trained \u001b[38;5;241m+\u001b[39m x_cur\u001b[38;5;241m.\u001b[39mshape[\u001b[38;5;241m0\u001b[39m])\n\u001b[0;32m    235\u001b[0m     metrics \u001b[38;5;241m=\u001b[39m \u001b[38;5;28mself\u001b[39m\u001b[38;5;241m.\u001b[39m_get_metrics(y_hat, y_cur)\n",
      "File \u001b[1;32mC:\\Machine Learning\\Projects\\NeuralNetworks\\neural\\models.py:179\u001b[0m, in \u001b[0;36mSequential.train_batch\u001b[1;34m(self, x, y)\u001b[0m\n\u001b[0;32m    177\u001b[0m \u001b[38;5;28;01mif\u001b[39;00m layer\u001b[38;5;241m.\u001b[39mget_base() \u001b[38;5;241m==\u001b[39m neural\u001b[38;5;241m.\u001b[39mlayers\u001b[38;5;241m.\u001b[39mStdLayer:\n\u001b[0;32m    178\u001b[0m     \u001b[38;5;28;01mif\u001b[39;00m layer_ind \u001b[38;5;241m<\u001b[39m num_of_layers \u001b[38;5;241m-\u001b[39m \u001b[38;5;241m1\u001b[39m:\n\u001b[1;32m--> 179\u001b[0m         dw, db, last_grad \u001b[38;5;241m=\u001b[39m \u001b[43mlayer\u001b[49m\u001b[38;5;241;43m.\u001b[39;49m\u001b[43mgradient\u001b[49m\u001b[43m(\u001b[49m\u001b[43mlast_grad\u001b[49m\u001b[43m,\u001b[49m\u001b[43m \u001b[49m\u001b[43mlast\u001b[49m\u001b[38;5;241;43m=\u001b[39;49m\u001b[38;5;28;43;01mFalse\u001b[39;49;00m\u001b[43m)\u001b[49m\n\u001b[0;32m    180\u001b[0m     \u001b[38;5;28;01melse\u001b[39;00m:\n\u001b[0;32m    181\u001b[0m         dw, db \u001b[38;5;241m=\u001b[39m layer\u001b[38;5;241m.\u001b[39mgradient(last_grad, last\u001b[38;5;241m=\u001b[39m\u001b[38;5;28;01mTrue\u001b[39;00m)\n",
      "File \u001b[1;32mC:\\Machine Learning\\Projects\\NeuralNetworks\\neural\\layers.py:179\u001b[0m, in \u001b[0;36mConv2D.gradient\u001b[1;34m(self, prev_grad, last)\u001b[0m\n\u001b[0;32m    176\u001b[0m dz_db \u001b[38;5;241m=\u001b[39m np\u001b[38;5;241m.\u001b[39msum(prev_grad, axis\u001b[38;5;241m=\u001b[39m(\u001b[38;5;241m0\u001b[39m, \u001b[38;5;241m1\u001b[39m, \u001b[38;5;241m2\u001b[39m))\n\u001b[0;32m    178\u001b[0m \u001b[38;5;28;01mif\u001b[39;00m \u001b[38;5;129;01mnot\u001b[39;00m last:\n\u001b[1;32m--> 179\u001b[0m     dz_da \u001b[38;5;241m=\u001b[39m \u001b[43mneural\u001b[49m\u001b[38;5;241;43m.\u001b[39;49m\u001b[43mop\u001b[49m\u001b[38;5;241;43m.\u001b[39;49m\u001b[43mconvolve2d_ker_arr\u001b[49m\u001b[43m(\u001b[49m\u001b[43mw\u001b[49m\u001b[43m,\u001b[49m\u001b[43m \u001b[49m\u001b[43mprev_grad\u001b[49m\u001b[43m)\u001b[49m\n\u001b[0;32m    181\u001b[0m     h_padded \u001b[38;5;241m=\u001b[39m dz_da\u001b[38;5;241m.\u001b[39mshape[\u001b[38;5;241m1\u001b[39m]\n\u001b[0;32m    182\u001b[0m     w_padded \u001b[38;5;241m=\u001b[39m dz_da\u001b[38;5;241m.\u001b[39mshape[\u001b[38;5;241m2\u001b[39m]\n",
      "File \u001b[1;32mC:\\Machine Learning\\Projects\\NeuralNetworks\\neural\\op.py:142\u001b[0m, in \u001b[0;36mconvolve2d_ker_arr\u001b[1;34m(ker, arr)\u001b[0m\n\u001b[0;32m    133\u001b[0m ker_padded \u001b[38;5;241m=\u001b[39m np\u001b[38;5;241m.\u001b[39mexpand_dims(ker_padded, axis\u001b[38;5;241m=\u001b[39m\u001b[38;5;241m0\u001b[39m)  \u001b[38;5;66;03m# (1, fh, fw, cl-1, cl)\u001b[39;00m\n\u001b[0;32m    135\u001b[0m \u001b[38;5;66;03m# def reduce(ker_slc, arr_slc):\u001b[39;00m\n\u001b[0;32m    136\u001b[0m \u001b[38;5;66;03m#     return np.sum(ker_slc * arr_slc, axis=(1, 2, -1))\u001b[39;00m\n\u001b[0;32m    137\u001b[0m \u001b[38;5;66;03m#\u001b[39;00m\n\u001b[0;32m    138\u001b[0m \u001b[38;5;66;03m# for row in range(hl_1):\u001b[39;00m\n\u001b[0;32m    139\u001b[0m \u001b[38;5;66;03m#     for col in range(wl_1):\u001b[39;00m\n\u001b[0;32m    140\u001b[0m \u001b[38;5;66;03m#         out[:, row, col, :] = reduce(ker_padded[:, row:row+hl, col:col+wl, :, :], arr)\u001b[39;00m\n\u001b[1;32m--> 142\u001b[0m out \u001b[38;5;241m=\u001b[39m np\u001b[38;5;241m.\u001b[39msum(\u001b[43msignal\u001b[49m\u001b[38;5;241;43m.\u001b[39;49m\u001b[43mfftconvolve\u001b[49m\u001b[43m(\u001b[49m\u001b[43mker_padded\u001b[49m\u001b[43m,\u001b[49m\u001b[43m \u001b[49m\u001b[43marr\u001b[49m\u001b[43m,\u001b[49m\u001b[43m \u001b[49m\u001b[43maxes\u001b[49m\u001b[38;5;241;43m=\u001b[39;49m\u001b[43m(\u001b[49m\u001b[38;5;241;43m1\u001b[39;49m\u001b[43m,\u001b[49m\u001b[43m \u001b[49m\u001b[38;5;241;43m2\u001b[39;49m\u001b[43m)\u001b[49m\u001b[43m,\u001b[49m\u001b[43m \u001b[49m\u001b[43mmode\u001b[49m\u001b[38;5;241;43m=\u001b[39;49m\u001b[38;5;124;43m\"\u001b[39;49m\u001b[38;5;124;43mvalid\u001b[39;49m\u001b[38;5;124;43m\"\u001b[39;49m\u001b[43m)\u001b[49m, axis\u001b[38;5;241m=\u001b[39m\u001b[38;5;241m-\u001b[39m\u001b[38;5;241m1\u001b[39m)\n\u001b[0;32m    144\u001b[0m \u001b[38;5;28;01mreturn\u001b[39;00m out\n",
      "File \u001b[1;32mC:\\Anaconda\\Anaconda\\envs\\tf\\lib\\site-packages\\scipy\\signal\\_signaltools.py:669\u001b[0m, in \u001b[0;36mfftconvolve\u001b[1;34m(in1, in2, mode, axes)\u001b[0m\n\u001b[0;32m    664\u001b[0m s2 \u001b[38;5;241m=\u001b[39m in2\u001b[38;5;241m.\u001b[39mshape\n\u001b[0;32m    666\u001b[0m shape \u001b[38;5;241m=\u001b[39m [\u001b[38;5;28mmax\u001b[39m((s1[i], s2[i])) \u001b[38;5;28;01mif\u001b[39;00m i \u001b[38;5;129;01mnot\u001b[39;00m \u001b[38;5;129;01min\u001b[39;00m axes \u001b[38;5;28;01melse\u001b[39;00m s1[i] \u001b[38;5;241m+\u001b[39m s2[i] \u001b[38;5;241m-\u001b[39m \u001b[38;5;241m1\u001b[39m\n\u001b[0;32m    667\u001b[0m          \u001b[38;5;28;01mfor\u001b[39;00m i \u001b[38;5;129;01min\u001b[39;00m \u001b[38;5;28mrange\u001b[39m(in1\u001b[38;5;241m.\u001b[39mndim)]\n\u001b[1;32m--> 669\u001b[0m ret \u001b[38;5;241m=\u001b[39m \u001b[43m_freq_domain_conv\u001b[49m\u001b[43m(\u001b[49m\u001b[43min1\u001b[49m\u001b[43m,\u001b[49m\u001b[43m \u001b[49m\u001b[43min2\u001b[49m\u001b[43m,\u001b[49m\u001b[43m \u001b[49m\u001b[43maxes\u001b[49m\u001b[43m,\u001b[49m\u001b[43m \u001b[49m\u001b[43mshape\u001b[49m\u001b[43m,\u001b[49m\u001b[43m \u001b[49m\u001b[43mcalc_fast_len\u001b[49m\u001b[38;5;241;43m=\u001b[39;49m\u001b[38;5;28;43;01mTrue\u001b[39;49;00m\u001b[43m)\u001b[49m\n\u001b[0;32m    671\u001b[0m \u001b[38;5;28;01mreturn\u001b[39;00m _apply_conv_mode(ret, s1, s2, mode, axes)\n",
      "File \u001b[1;32mC:\\Anaconda\\Anaconda\\envs\\tf\\lib\\site-packages\\scipy\\signal\\_signaltools.py:509\u001b[0m, in \u001b[0;36m_freq_domain_conv\u001b[1;34m(in1, in2, axes, shape, calc_fast_len)\u001b[0m\n\u001b[0;32m    506\u001b[0m sp1 \u001b[38;5;241m=\u001b[39m fft(in1, fshape, axes\u001b[38;5;241m=\u001b[39maxes)\n\u001b[0;32m    507\u001b[0m sp2 \u001b[38;5;241m=\u001b[39m fft(in2, fshape, axes\u001b[38;5;241m=\u001b[39maxes)\n\u001b[1;32m--> 509\u001b[0m ret \u001b[38;5;241m=\u001b[39m \u001b[43mifft\u001b[49m\u001b[43m(\u001b[49m\u001b[43msp1\u001b[49m\u001b[43m \u001b[49m\u001b[38;5;241;43m*\u001b[39;49m\u001b[43m \u001b[49m\u001b[43msp2\u001b[49m\u001b[43m,\u001b[49m\u001b[43m \u001b[49m\u001b[43mfshape\u001b[49m\u001b[43m,\u001b[49m\u001b[43m \u001b[49m\u001b[43maxes\u001b[49m\u001b[38;5;241;43m=\u001b[39;49m\u001b[43maxes\u001b[49m\u001b[43m)\u001b[49m\n\u001b[0;32m    511\u001b[0m \u001b[38;5;28;01mif\u001b[39;00m calc_fast_len:\n\u001b[0;32m    512\u001b[0m     fslice \u001b[38;5;241m=\u001b[39m \u001b[38;5;28mtuple\u001b[39m([\u001b[38;5;28mslice\u001b[39m(sz) \u001b[38;5;28;01mfor\u001b[39;00m sz \u001b[38;5;129;01min\u001b[39;00m shape])\n",
      "File \u001b[1;32mC:\\Anaconda\\Anaconda\\envs\\tf\\lib\\site-packages\\scipy\\fft\\_backend.py:25\u001b[0m, in \u001b[0;36m_ScipyBackend.__ua_function__\u001b[1;34m(method, args, kwargs)\u001b[0m\n\u001b[0;32m     23\u001b[0m \u001b[38;5;28;01mif\u001b[39;00m fn \u001b[38;5;129;01mis\u001b[39;00m \u001b[38;5;28;01mNone\u001b[39;00m:\n\u001b[0;32m     24\u001b[0m     \u001b[38;5;28;01mreturn\u001b[39;00m \u001b[38;5;28mNotImplemented\u001b[39m\n\u001b[1;32m---> 25\u001b[0m \u001b[38;5;28;01mreturn\u001b[39;00m fn(\u001b[38;5;241m*\u001b[39margs, \u001b[38;5;241m*\u001b[39m\u001b[38;5;241m*\u001b[39mkwargs)\n",
      "File \u001b[1;32mC:\\Anaconda\\Anaconda\\envs\\tf\\lib\\site-packages\\scipy\\fft\\_pocketfft\\basic.py:263\u001b[0m, in \u001b[0;36mc2rn\u001b[1;34m(forward, x, s, axes, norm, overwrite_x, workers, plan)\u001b[0m\n\u001b[0;32m    260\u001b[0m tmp, _ \u001b[38;5;241m=\u001b[39m _fix_shape(tmp, shape, axes)\n\u001b[0;32m    262\u001b[0m \u001b[38;5;66;03m# Note: overwrite_x is not utilized\u001b[39;00m\n\u001b[1;32m--> 263\u001b[0m \u001b[38;5;28;01mreturn\u001b[39;00m \u001b[43mpfft\u001b[49m\u001b[38;5;241;43m.\u001b[39;49m\u001b[43mc2r\u001b[49m\u001b[43m(\u001b[49m\u001b[43mtmp\u001b[49m\u001b[43m,\u001b[49m\u001b[43m \u001b[49m\u001b[43maxes\u001b[49m\u001b[43m,\u001b[49m\u001b[43m \u001b[49m\u001b[43mlastsize\u001b[49m\u001b[43m,\u001b[49m\u001b[43m \u001b[49m\u001b[43mforward\u001b[49m\u001b[43m,\u001b[49m\u001b[43m \u001b[49m\u001b[43mnorm\u001b[49m\u001b[43m,\u001b[49m\u001b[43m \u001b[49m\u001b[38;5;28;43;01mNone\u001b[39;49;00m\u001b[43m,\u001b[49m\u001b[43m \u001b[49m\u001b[43mworkers\u001b[49m\u001b[43m)\u001b[49m\n",
      "\u001b[1;31mKeyboardInterrupt\u001b[0m: "
     ]
    }
   ],
   "source": [
    "history = model.train(x_train, y_train, epochs=50)"
   ]
  },
  {
   "cell_type": "code",
   "execution_count": null,
   "id": "6ede8a84",
   "metadata": {},
   "outputs": [],
   "source": [
    "plt.plot(history[\"loss\"])"
   ]
  },
  {
   "cell_type": "code",
   "execution_count": null,
   "id": "ca18ca18",
   "metadata": {},
   "outputs": [],
   "source": [
    "plt.plot(history[\"one_hot_acc\"])"
   ]
  },
  {
   "cell_type": "code",
   "execution_count": 52,
   "id": "084dd2fc",
   "metadata": {},
   "outputs": [
    {
     "name": "stdout",
     "output_type": "stream",
     "text": [
      "27/27: oooooooooooooooooooooooooooooooooooooooooooooooooooooooooooo\n"
     ]
    },
    {
     "data": {
      "text/plain": [
       "{'loss': 0.4552049627351387, 'one_hot_acc': 0.85}"
      ]
     },
     "execution_count": 52,
     "metadata": {},
     "output_type": "execute_result"
    }
   ],
   "source": [
    "model.evaluate(x_test, y_test, batch_size=128)"
   ]
  },
  {
   "cell_type": "code",
   "execution_count": 72,
   "id": "3185eef9",
   "metadata": {},
   "outputs": [],
   "source": [
    "def display_trained_samples(img_samples, labels, predictions, arabic_letters):\n",
    "    f, ax = plt.subplots(3, 3)\n",
    "    f.tight_layout()\n",
    "    cntr = 0\n",
    "    for row in range(3):\n",
    "        for col in range(3):\n",
    "            ax[row, col].imshow(img_samples[cntr])\n",
    "            ax[row, col].axis(\"off\")\n",
    "            ax[row, col].set_title(f\"Label: {arabic_letters[int(labels[cntr])]}\\nPred: {arabic_letters[int(predictions[cntr])]}\")\n",
    "            cntr += 1"
   ]
  },
  {
   "cell_type": "code",
   "execution_count": 103,
   "id": "0eb12447",
   "metadata": {},
   "outputs": [
    {
     "name": "stdout",
     "output_type": "stream",
     "text": [
      "1/1: oooooooooooooooooooooooooooooooooooooooooooooooooooooooooooo\n"
     ]
    },
    {
     "data": {
      "image/png": "[encoded data removed]",
      "text/plain": [
       "<Figure size 640x480 with 9 Axes>"
      ]
     },
     "metadata": {},
     "output_type": "display_data"
    }
   ],
   "source": [
    "rndm_idx = np.random.choice(x_test.shape[0], 9, replace=False)\n",
    "pred = np.argmax(model.predict(x_test[rndm_idx]), axis=-1)\n",
    "lbls = np.argmax(y_test[rndm_idx], axis=-1)\n",
    "display_trained_samples(x_test[rndm_idx], lbls, pred, arabic_letters)"
   ]
  },
  {
   "cell_type": "code",
   "execution_count": 94,
   "id": "9bd49a93",
   "metadata": {},
   "outputs": [],
   "source": [
    "lyr_num = 0\n",
    "for lyr in model.layers:\n",
    "    if lyr.get_base() == nn.layers.StdLayer:\n",
    "        path_name = \"Arabic_MNIST_Weights/\" + \"layer\" + str(lyr_num)\n",
    "        kernel = lyr.kernel\n",
    "        bias = lyr.bias\n",
    "        kernel_path_name = path_name + \"_kernel.npy\"\n",
    "        bias_path_name = path_name + \"_bias.npy\"\n",
    "        np.save(kernel_path_name, kernel)\n",
    "        np.save(bias_path_name, bias)\n",
    "        lyr_num += 1\n",
    "    else:\n",
    "        pass"
   ]
  }
 ],
 "metadata": {
  "kernelspec": {
   "display_name": "Python 3 (ipykernel)",
   "language": "python",
   "name": "python3"
  },
  "language_info": {
   "codemirror_mode": {
    "name": "ipython",
    "version": 3
   },
   "file_extension": ".py",
   "mimetype": "text/x-python",
   "name": "python",
   "nbconvert_exporter": "python",
   "pygments_lexer": "ipython3",
   "version": "3.9.17"
  }
 },
 "nbformat": 4,
 "nbformat_minor": 5
}
