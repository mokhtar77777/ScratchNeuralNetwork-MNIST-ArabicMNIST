{
 "cells": [
  {
   "cell_type": "code",
   "execution_count": 1,
   "id": "b7a7be61",
   "metadata": {},
   "outputs": [],
   "source": [
    "import numpy as np\n",
    "from PIL import Image\n",
    "import os\n",
    "import matplotlib.pyplot as plt\n",
    "import neural as nn\n",
    "import pandas as pd"
   ]
  },
  {
   "cell_type": "code",
   "execution_count": 2,
   "id": "1fdbf0e0",
   "metadata": {},
   "outputs": [],
   "source": [
    "train_dataset = pd.read_csv(\"mnist_train.csv\")\n",
    "test_dataset = pd.read_csv(\"mnist_test.csv\")"
   ]
  },
  {
   "cell_type": "code",
   "execution_count": 3,
   "id": "d3a40ad7",
   "metadata": {},
   "outputs": [],
   "source": [
    "def split_to_labels_and_data(pd_dataset):\n",
    "    numpy_mat = pd_dataset.to_numpy(dtype=float)\n",
    "    labels = numpy_mat[:, 0]\n",
    "    data = numpy_mat[:, 1:]\n",
    "    return data, labels"
   ]
  },
  {
   "cell_type": "code",
   "execution_count": 4,
   "id": "6a03997d",
   "metadata": {},
   "outputs": [],
   "source": [
    "x_train, y_train = split_to_labels_and_data(train_dataset)\n",
    "x_test, y_test = split_to_labels_and_data(test_dataset)"
   ]
  },
  {
   "cell_type": "code",
   "execution_count": 5,
   "id": "126a243b",
   "metadata": {},
   "outputs": [],
   "source": [
    "def merge_datasets(x_train, y_train, x_test, y_test):\n",
    "    data = np.vstack((x_train, x_test))\n",
    "    labels = np.concatenate((y_train, y_test))\n",
    "    \n",
    "    return data, labels"
   ]
  },
  {
   "cell_type": "code",
   "execution_count": 6,
   "id": "4f827cc8",
   "metadata": {},
   "outputs": [],
   "source": [
    "data, labels = merge_datasets(x_train, y_train, x_test, y_test)"
   ]
  },
  {
   "cell_type": "code",
   "execution_count": 7,
   "id": "3ac16004",
   "metadata": {},
   "outputs": [],
   "source": [
    "def shuffle_dataset(data, labels):\n",
    "    random_idx = np.random.permutation(data.shape[0])\n",
    "    \n",
    "    new_data = data[random_idx]\n",
    "    new_labels = labels[random_idx]\n",
    "    \n",
    "    return new_data, new_labels"
   ]
  },
  {
   "cell_type": "code",
   "execution_count": 8,
   "id": "33b72297",
   "metadata": {},
   "outputs": [],
   "source": [
    "data, labels = shuffle_dataset(data, labels)"
   ]
  },
  {
   "cell_type": "code",
   "execution_count": 9,
   "id": "59e9fed4",
   "metadata": {},
   "outputs": [],
   "source": [
    "def split_train_val_test(data, labels, train_split=0.7, val_split=0.15, test_split=0.15):\n",
    "    train_num = int(data.shape[0] * train_split)\n",
    "    val_num = int(data.shape[0] * val_split)\n",
    "    \n",
    "    x_train = data[:train_num]\n",
    "    y_train = labels[:train_num]\n",
    "    \n",
    "    x_val = data[train_num:(train_num+val_num)]\n",
    "    y_val = labels[train_num:(train_num+val_num)]\n",
    "    \n",
    "    x_test = data[(train_num+val_num):]\n",
    "    y_test = labels[(train_num+val_num):]\n",
    "    \n",
    "    return x_train, y_train, x_val, y_val, x_test, y_test"
   ]
  },
  {
   "cell_type": "code",
   "execution_count": 10,
   "id": "de9d1486",
   "metadata": {},
   "outputs": [],
   "source": [
    "x_train, y_train, x_val, y_val, x_test, y_test = split_train_val_test(data, labels)"
   ]
  },
  {
   "cell_type": "code",
   "execution_count": 11,
   "id": "cd81f97e",
   "metadata": {},
   "outputs": [
    {
     "name": "stdout",
     "output_type": "stream",
     "text": [
      "Training Data: 49000\n",
      "Validation Data: 10500\n",
      "Test Data: 10500\n"
     ]
    }
   ],
   "source": [
    "print(f\"Training Data: {x_train.shape[0]}\")\n",
    "print(f\"Validation Data: {x_val.shape[0]}\")\n",
    "print(f\"Test Data: {x_test.shape[0]}\")"
   ]
  },
  {
   "cell_type": "code",
   "execution_count": 12,
   "id": "b44d5b2b",
   "metadata": {},
   "outputs": [],
   "source": [
    "y_train = nn.preprocessing.to_one_hot(y_train)\n",
    "y_val = nn.preprocessing.to_one_hot(y_val)\n",
    "y_test = nn.preprocessing.to_one_hot(y_test)"
   ]
  },
  {
   "cell_type": "code",
   "execution_count": 13,
   "id": "8ee60669",
   "metadata": {},
   "outputs": [],
   "source": [
    "x_train /= 255.0\n",
    "x_val /= 255.0\n",
    "x_test /= 255.0"
   ]
  },
  {
   "cell_type": "code",
   "execution_count": 14,
   "id": "e32fc8d1",
   "metadata": {},
   "outputs": [],
   "source": [
    "x_train = x_train.reshape(x_train.shape[0], 28, 28, 1)\n",
    "x_val = x_val.reshape(x_val.shape[0], 28, 28, 1)\n",
    "x_test = x_test.reshape(x_test.shape[0], 28, 28, 1)"
   ]
  },
  {
   "cell_type": "code",
   "execution_count": 35,
   "id": "813c03f9",
   "metadata": {},
   "outputs": [],
   "source": [
    "model = nn.Sequential([\n",
    "    nn.layers.Conv2D(4, 3, kernel_initializer=\"he_normal\"),\n",
    "    nn.layers.Activation(\"relu\"),\n",
    "    nn.layers.Dropout(0.1),\n",
    "    nn.layers.MaxPooling2D(),\n",
    "    nn.layers.Conv2D(8, 3, kernel_initializer=\"he_normal\"),\n",
    "    nn.layers.Activation(\"relu\"),\n",
    "    nn.layers.Dropout(0.1),\n",
    "    nn.layers.MaxPooling2D(filter_size=3, strides=2),\n",
    "    nn.layers.Flatten(),\n",
    "    nn.layers.FullyConnected(neurons=500, kernel_initializer=\"he_normal\"),\n",
    "    nn.layers.Activation(\"relu\"),    \n",
    "    nn.layers.FullyConnected(neurons=10),\n",
    "])"
   ]
  },
  {
   "cell_type": "code",
   "execution_count": 36,
   "id": "d62f2ea0",
   "metadata": {},
   "outputs": [],
   "source": [
    "model.set(\n",
    "    loss=nn.losses.OneHotCrossEntropy(from_logits=True),\n",
    "    optimizer=nn.optimizers.Adam(),\n",
    "    metrics=[\"one_hot_acc\"]\n",
    ")"
   ]
  },
  {
   "cell_type": "code",
   "execution_count": 37,
   "id": "c8399f06",
   "metadata": {},
   "outputs": [
    {
     "name": "stdout",
     "output_type": "stream",
     "text": [
      "Epoch 1/20:  350/383: oooooooooooooooooooooooooooooooooooooooooooooooooooooo......\tloss: 0.29485\tone_hot_acc: 0.91127"
     ]
    },
    {
     "ename": "KeyboardInterrupt",
     "evalue": "",
     "output_type": "error",
     "traceback": [
      "\u001b[1;31m---------------------------------------------------------------------------\u001b[0m",
      "\u001b[1;31mKeyboardInterrupt\u001b[0m                         Traceback (most recent call last)",
      "Cell \u001b[1;32mIn[37], line 1\u001b[0m\n\u001b[1;32m----> 1\u001b[0m history \u001b[38;5;241m=\u001b[39m \u001b[43mmodel\u001b[49m\u001b[38;5;241;43m.\u001b[39;49m\u001b[43mtrain\u001b[49m\u001b[43m(\u001b[49m\u001b[43mx_train\u001b[49m\u001b[43m,\u001b[49m\u001b[43m \u001b[49m\u001b[43my_train\u001b[49m\u001b[43m,\u001b[49m\u001b[43m \u001b[49m\u001b[43mbatch_size\u001b[49m\u001b[38;5;241;43m=\u001b[39;49m\u001b[38;5;241;43m128\u001b[39;49m\u001b[43m,\u001b[49m\u001b[43m \u001b[49m\u001b[43mepochs\u001b[49m\u001b[38;5;241;43m=\u001b[39;49m\u001b[38;5;241;43m20\u001b[39;49m\u001b[43m)\u001b[49m\n",
      "File \u001b[1;32mC:\\Machine Learning\\Projects\\NeuralNetworks\\neural\\models.py:231\u001b[0m, in \u001b[0;36mSequential.train\u001b[1;34m(self, x, y, epochs, batch_size, verbose)\u001b[0m\n\u001b[0;32m    228\u001b[0m avg_loss \u001b[38;5;241m=\u001b[39m \u001b[38;5;241m0\u001b[39m\n\u001b[0;32m    230\u001b[0m \u001b[38;5;28;01mfor\u001b[39;00m (x_cur, y_cur) \u001b[38;5;129;01min\u001b[39;00m mini_batch_gen:\n\u001b[1;32m--> 231\u001b[0m     y_hat, loss \u001b[38;5;241m=\u001b[39m \u001b[38;5;28;43mself\u001b[39;49m\u001b[38;5;241;43m.\u001b[39;49m\u001b[43mtrain_batch\u001b[49m\u001b[43m(\u001b[49m\u001b[43mx_cur\u001b[49m\u001b[43m,\u001b[49m\u001b[43m \u001b[49m\u001b[43my_cur\u001b[49m\u001b[43m)\u001b[49m\n\u001b[0;32m    233\u001b[0m     avg_loss \u001b[38;5;241m=\u001b[39m (avg_loss \u001b[38;5;241m*\u001b[39m m_trained \u001b[38;5;241m+\u001b[39m loss \u001b[38;5;241m*\u001b[39m x_cur\u001b[38;5;241m.\u001b[39mshape[\u001b[38;5;241m0\u001b[39m]) \u001b[38;5;241m/\u001b[39m (m_trained \u001b[38;5;241m+\u001b[39m x_cur\u001b[38;5;241m.\u001b[39mshape[\u001b[38;5;241m0\u001b[39m])\n\u001b[0;32m    235\u001b[0m     metrics \u001b[38;5;241m=\u001b[39m \u001b[38;5;28mself\u001b[39m\u001b[38;5;241m.\u001b[39m_get_metrics(y_hat, y_cur)\n",
      "File \u001b[1;32mC:\\Machine Learning\\Projects\\NeuralNetworks\\neural\\models.py:194\u001b[0m, in \u001b[0;36mSequential.train_batch\u001b[1;34m(self, x, y)\u001b[0m\n\u001b[0;32m    192\u001b[0m \u001b[38;5;28;01melif\u001b[39;00m layer\u001b[38;5;241m.\u001b[39mget_base() \u001b[38;5;241m==\u001b[39m neural\u001b[38;5;241m.\u001b[39mlayers\u001b[38;5;241m.\u001b[39mNoWeightsLayer:\n\u001b[0;32m    193\u001b[0m     \u001b[38;5;28;01mif\u001b[39;00m layer_ind \u001b[38;5;241m<\u001b[39m num_of_layers \u001b[38;5;241m-\u001b[39m \u001b[38;5;241m1\u001b[39m:\n\u001b[1;32m--> 194\u001b[0m         last_grad \u001b[38;5;241m=\u001b[39m \u001b[43mlayer\u001b[49m\u001b[38;5;241;43m.\u001b[39;49m\u001b[43mgradient\u001b[49m\u001b[43m(\u001b[49m\u001b[43mlast_grad\u001b[49m\u001b[43m)\u001b[49m\n\u001b[0;32m    195\u001b[0m     \u001b[38;5;28;01melse\u001b[39;00m:\n\u001b[0;32m    196\u001b[0m         \u001b[38;5;28;01mpass\u001b[39;00m  \u001b[38;5;66;03m# Do nothing\u001b[39;00m\n",
      "File \u001b[1;32mC:\\Machine Learning\\Projects\\NeuralNetworks\\neural\\layers.py:302\u001b[0m, in \u001b[0;36mMaxPooling2D.gradient\u001b[1;34m(self, prev_grad)\u001b[0m\n\u001b[0;32m    299\u001b[0m \u001b[38;5;28;01mdef\u001b[39;00m \u001b[38;5;21mgradient\u001b[39m(\u001b[38;5;28mself\u001b[39m, prev_grad) \u001b[38;5;241m-\u001b[39m\u001b[38;5;241m>\u001b[39m Tuple[np\u001b[38;5;241m.\u001b[39mndarray]:\n\u001b[0;32m    300\u001b[0m     in_sz \u001b[38;5;241m=\u001b[39m (\u001b[38;5;28mself\u001b[39m\u001b[38;5;241m.\u001b[39minput_shape[\u001b[38;5;241m1\u001b[39m], \u001b[38;5;28mself\u001b[39m\u001b[38;5;241m.\u001b[39minput_shape[\u001b[38;5;241m2\u001b[39m])\n\u001b[1;32m--> 302\u001b[0m     grad \u001b[38;5;241m=\u001b[39m \u001b[43mneural\u001b[49m\u001b[38;5;241;43m.\u001b[39;49m\u001b[43mop\u001b[49m\u001b[38;5;241;43m.\u001b[39;49m\u001b[43mmax_upsampling2d\u001b[49m\u001b[43m(\u001b[49m\u001b[43mprev_grad\u001b[49m\u001b[43m,\u001b[49m\u001b[43m \u001b[49m\u001b[43min_sz\u001b[49m\u001b[43m,\u001b[49m\u001b[43m \u001b[49m\u001b[38;5;28;43mself\u001b[39;49m\u001b[38;5;241;43m.\u001b[39;49m\u001b[43mmax_ind\u001b[49m\u001b[43m)\u001b[49m\n\u001b[0;32m    304\u001b[0m     \u001b[38;5;28;01mreturn\u001b[39;00m grad\n",
      "File \u001b[1;32mC:\\Machine Learning\\Projects\\NeuralNetworks\\neural\\op.py:257\u001b[0m, in \u001b[0;36mmax_upsampling2d\u001b[1;34m(arr, out_size, max_ind, output_mask)\u001b[0m\n\u001b[0;32m    254\u001b[0m big_counts_ind \u001b[38;5;241m=\u001b[39m np\u001b[38;5;241m.\u001b[39mwhere(counts \u001b[38;5;241m>\u001b[39m \u001b[38;5;241m1\u001b[39m)[\u001b[38;5;241m0\u001b[39m]\n\u001b[0;32m    256\u001b[0m \u001b[38;5;28;01mfor\u001b[39;00m count_ind \u001b[38;5;129;01min\u001b[39;00m big_counts_ind:\n\u001b[1;32m--> 257\u001b[0m     arr_reshaped_red[count_ind] \u001b[38;5;241m=\u001b[39m \u001b[43mnp\u001b[49m\u001b[38;5;241;43m.\u001b[39;49m\u001b[43msum\u001b[49m\u001b[43m(\u001b[49m\u001b[43marr_reshaped\u001b[49m\u001b[43m[\u001b[49m\u001b[43mind\u001b[49m\u001b[43m[\u001b[49m\u001b[43mcount_ind\u001b[49m\u001b[43m]\u001b[49m\u001b[43m:\u001b[49m\u001b[43mind\u001b[49m\u001b[43m[\u001b[49m\u001b[43mcount_ind\u001b[49m\u001b[43m]\u001b[49m\u001b[38;5;241;43m+\u001b[39;49m\u001b[43mcounts\u001b[49m\u001b[43m[\u001b[49m\u001b[43mcount_ind\u001b[49m\u001b[43m]\u001b[49m\u001b[43m]\u001b[49m\u001b[43m)\u001b[49m\n\u001b[0;32m    259\u001b[0m out[m_repeats_red, max_row_ind_red, max_col_ind_red, c_repeats_red] \u001b[38;5;241m=\u001b[39m arr_reshaped_red\n\u001b[0;32m    261\u001b[0m \u001b[38;5;28;01mif\u001b[39;00m output_mask \u001b[38;5;129;01mis\u001b[39;00m \u001b[38;5;129;01mnot\u001b[39;00m \u001b[38;5;28;01mNone\u001b[39;00m:\n",
      "File \u001b[1;32m<__array_function__ internals>:200\u001b[0m, in \u001b[0;36msum\u001b[1;34m(*args, **kwargs)\u001b[0m\n",
      "File \u001b[1;32mC:\\Anaconda\\Anaconda\\envs\\tf\\lib\\site-packages\\numpy\\core\\fromnumeric.py:2324\u001b[0m, in \u001b[0;36msum\u001b[1;34m(a, axis, dtype, out, keepdims, initial, where)\u001b[0m\n\u001b[0;32m   2321\u001b[0m         \u001b[38;5;28;01mreturn\u001b[39;00m out\n\u001b[0;32m   2322\u001b[0m     \u001b[38;5;28;01mreturn\u001b[39;00m res\n\u001b[1;32m-> 2324\u001b[0m \u001b[38;5;28;01mreturn\u001b[39;00m \u001b[43m_wrapreduction\u001b[49m\u001b[43m(\u001b[49m\u001b[43ma\u001b[49m\u001b[43m,\u001b[49m\u001b[43m \u001b[49m\u001b[43mnp\u001b[49m\u001b[38;5;241;43m.\u001b[39;49m\u001b[43madd\u001b[49m\u001b[43m,\u001b[49m\u001b[43m \u001b[49m\u001b[38;5;124;43m'\u001b[39;49m\u001b[38;5;124;43msum\u001b[39;49m\u001b[38;5;124;43m'\u001b[39;49m\u001b[43m,\u001b[49m\u001b[43m \u001b[49m\u001b[43maxis\u001b[49m\u001b[43m,\u001b[49m\u001b[43m \u001b[49m\u001b[43mdtype\u001b[49m\u001b[43m,\u001b[49m\u001b[43m \u001b[49m\u001b[43mout\u001b[49m\u001b[43m,\u001b[49m\u001b[43m \u001b[49m\u001b[43mkeepdims\u001b[49m\u001b[38;5;241;43m=\u001b[39;49m\u001b[43mkeepdims\u001b[49m\u001b[43m,\u001b[49m\n\u001b[0;32m   2325\u001b[0m \u001b[43m                      \u001b[49m\u001b[43minitial\u001b[49m\u001b[38;5;241;43m=\u001b[39;49m\u001b[43minitial\u001b[49m\u001b[43m,\u001b[49m\u001b[43m \u001b[49m\u001b[43mwhere\u001b[49m\u001b[38;5;241;43m=\u001b[39;49m\u001b[43mwhere\u001b[49m\u001b[43m)\u001b[49m\n",
      "\u001b[1;31mKeyboardInterrupt\u001b[0m: "
     ]
    }
   ],
   "source": [
    "history = model.train(x_train, y_train, batch_size=128, epochs=20)"
   ]
  },
  {
   "cell_type": "code",
   "execution_count": 28,
   "id": "7eeaa88b",
   "metadata": {},
   "outputs": [
    {
     "data": {
      "text/plain": [
       "[<matplotlib.lines.Line2D at 0x1457f611d60>]"
      ]
     },
     "execution_count": 28,
     "metadata": {},
     "output_type": "execute_result"
    },
    {
     "data": {
      "image/png": "[encoded data removed]",
      "text/plain": [
       "<Figure size 640x480 with 1 Axes>"
      ]
     },
     "metadata": {},
     "output_type": "display_data"
    }
   ],
   "source": [
    "plt.plot(history[\"loss\"])"
   ]
  },
  {
   "cell_type": "code",
   "execution_count": 29,
   "id": "b0a2b478",
   "metadata": {},
   "outputs": [
    {
     "data": {
      "text/plain": [
       "[<matplotlib.lines.Line2D at 0x1457f673970>]"
      ]
     },
     "execution_count": 29,
     "metadata": {},
     "output_type": "execute_result"
    },
    {
     "data": {
      "image/png": "[encoded data removed]",
      "text/plain": [
       "<Figure size 640x480 with 1 Axes>"
      ]
     },
     "metadata": {},
     "output_type": "display_data"
    }
   ],
   "source": [
    "plt.plot(history[\"one_hot_acc\"])"
   ]
  },
  {
   "cell_type": "code",
   "execution_count": 30,
   "id": "3ddecb99",
   "metadata": {},
   "outputs": [
    {
     "name": "stdout",
     "output_type": "stream",
     "text": [
      "329/329: oooooooooooooooooooooooooooooooooooooooooooooooooooooooooooo\n"
     ]
    },
    {
     "data": {
      "text/plain": [
       "{'loss': 0.11884993216293092, 'one_hot_acc': 0.979047619047619}"
      ]
     },
     "execution_count": 30,
     "metadata": {},
     "output_type": "execute_result"
    }
   ],
   "source": [
    "model.evaluate(x_val, y_val)"
   ]
  },
  {
   "cell_type": "code",
   "execution_count": null,
   "id": "c89dba9d",
   "metadata": {},
   "outputs": [],
   "source": [
    "weights = []\n",
    "for lyr in model.layers:\n",
    "    if lyr.get_base() == nn.layers.StdLayer:\n",
    "        weights.append(lyr.get_weights())\n",
    "weights"
   ]
  },
  {
   "cell_type": "code",
   "execution_count": 31,
   "id": "64c0b6ea",
   "metadata": {},
   "outputs": [
    {
     "name": "stdout",
     "output_type": "stream",
     "text": [
      "329/329: oooooooooooooooooooooooooooooooooooooooooooooooooooooooooooo\n"
     ]
    },
    {
     "data": {
      "text/plain": [
       "{'loss': 0.11025746531297428, 'one_hot_acc': 0.9822857142857143}"
      ]
     },
     "execution_count": 31,
     "metadata": {},
     "output_type": "execute_result"
    }
   ],
   "source": [
    "model.evaluate(x_test, y_test)"
   ]
  }
 ],
 "metadata": {
  "kernelspec": {
   "display_name": "Python 3 (ipykernel)",
   "language": "python",
   "name": "python3"
  },
  "language_info": {
   "codemirror_mode": {
    "name": "ipython",
    "version": 3
   },
   "file_extension": ".py",
   "mimetype": "text/x-python",
   "name": "python",
   "nbconvert_exporter": "python",
   "pygments_lexer": "ipython3",
   "version": "3.9.17"
  }
 },
 "nbformat": 4,
 "nbformat_minor": 5
}
